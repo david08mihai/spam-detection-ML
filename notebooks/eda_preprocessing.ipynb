{
 "cells": [
  {
   "cell_type": "markdown",
   "id": "d2d2b453",
   "metadata": {},
   "source": [
    "# SMS Spam Detection\n",
    "\n",
    "This section explores the dataset to gain insights, identify patterns, and detect missing values or outliers before preprocessing. The SMS Spam Collection dataset is chosen for its relevance and simplicity for text classification tasks.\n"
   ]
  },
  {
   "cell_type": "markdown",
   "id": "352f98cf",
   "metadata": {},
   "source": [
    "## Loading the Dataset\n",
    "We load the dataset and inspect the first few rows to understand its structure.\n"
   ]
  },
  {
   "cell_type": "code",
   "execution_count": 37,
   "id": "bec92516",
   "metadata": {},
   "outputs": [
    {
     "name": "stdout",
     "output_type": "stream",
     "text": [
      "     v1                                                 v2 Unnamed: 2  \\\n",
      "0   ham  Go until jurong point, crazy.. Available only ...        NaN   \n",
      "1   ham                      Ok lar... Joking wif u oni...        NaN   \n",
      "2  spam  Free entry in 2 a wkly comp to win FA Cup fina...        NaN   \n",
      "3   ham  U dun say so early hor... U c already then say...        NaN   \n",
      "4   ham  Nah I don't think he goes to usf, he lives aro...        NaN   \n",
      "\n",
      "  Unnamed: 3 Unnamed: 4  \n",
      "0        NaN        NaN  \n",
      "1        NaN        NaN  \n",
      "2        NaN        NaN  \n",
      "3        NaN        NaN  \n",
      "4        NaN        NaN  \n"
     ]
    }
   ],
   "source": [
    "import pandas as pd\n",
    "\n",
    "\n",
    "df = pd.read_csv('../dataset/spam.csv', encoding='latin-1')\n",
    "print(df.head())"
   ]
  },
  {
   "cell_type": "markdown",
   "id": "7ffde17b",
   "metadata": {},
   "source": [
    "As we can see, there are four columns, but the last three columns have only few non null values. We are going to see what are their role and how can they be used."
   ]
  },
  {
   "cell_type": "code",
   "execution_count": 38,
   "id": "88d2b63d",
   "metadata": {},
   "outputs": [
    {
     "name": "stdout",
     "output_type": "stream",
     "text": [
      "       v1                                                 v2  \\\n",
      "95   spam  Your free ringtone is waiting to be collected....   \n",
      "281   ham                                \\Wen u miss someone   \n",
      "444   ham  \\HEY HEY WERETHE MONKEESPEOPLE SAY WE MONKEYAR...   \n",
      "671  spam         SMS. ac sun0819 posts HELLO:\\You seem cool   \n",
      "710   ham  Height of Confidence: All the Aeronautics prof...   \n",
      "\n",
      "                                            Unnamed: 2             Unnamed: 3  \\\n",
      "95                                         PO Box 5249   MK17 92H. 450Ppw 16\"   \n",
      "281   the person is definitely special for u..... B...       why to miss them   \n",
      "444   HOWU DOIN? FOUNDURSELF A JOBYET SAUSAGE?LOVE ...                    NaN   \n",
      "671   wanted to say hi. HI!!!\\\" Stop? Send STOP to ...                    NaN   \n",
      "710    this wont even start........ Datz confidence..\"                    NaN   \n",
      "\n",
      "                         Unnamed: 4  \n",
      "95                              NaN  \n",
      "281   just Keep-in-touch\\\" gdeve..\"  \n",
      "444                             NaN  \n",
      "671                             NaN  \n",
      "710                             NaN  \n"
     ]
    }
   ],
   "source": [
    "print(df[df['Unnamed: 2'].notnull()].iloc[:5])"
   ]
  },
  {
   "cell_type": "markdown",
   "id": "78f489ca",
   "metadata": {},
   "source": [
    "Due to lack of information and correlation between the text column and the last two columns, it is the best to drop them and focus on the text column."
   ]
  },
  {
   "cell_type": "code",
   "execution_count": 39,
   "id": "07a7f2c8",
   "metadata": {},
   "outputs": [
    {
     "name": "stdout",
     "output_type": "stream",
     "text": [
      "<class 'pandas.core.frame.DataFrame'>\n",
      "RangeIndex: 5572 entries, 0 to 5571\n",
      "Data columns (total 2 columns):\n",
      " #   Column  Non-Null Count  Dtype \n",
      "---  ------  --------------  ----- \n",
      " 0   label   5572 non-null   object\n",
      " 1   text    5572 non-null   object\n",
      "dtypes: object(2)\n",
      "memory usage: 87.2+ KB\n",
      "None\n"
     ]
    }
   ],
   "source": [
    "df = df.drop(columns=['Unnamed: 2', 'Unnamed: 3', 'Unnamed: 4'])\n",
    "df.columns = ['label', 'text']\n",
    "print(df.info())"
   ]
  },
  {
   "cell_type": "code",
   "execution_count": 40,
   "id": "ca43913d",
   "metadata": {},
   "outputs": [],
   "source": [
    "import matplotlib.pyplot as plt\n",
    "\n",
    "df['label'] = df['label'].map({'ham': 0, 'spam': 1})"
   ]
  },
  {
   "cell_type": "code",
   "execution_count": 41,
   "id": "570a437a",
   "metadata": {},
   "outputs": [
    {
     "data": {
      "image/png": "[encoded data removed]",
      "text/plain": [
       "<Figure size 640x480 with 1 Axes>"
      ]
     },
     "metadata": {},
     "output_type": "display_data"
    }
   ],
   "source": [
    "import matplotlib.pyplot as plt\n",
    "\n",
    "x_values = ['Ham', 'Spam']\n",
    "y_values = df['label'].value_counts().values\n",
    "plt.bar(x_values, y_values)\n",
    "plt.xlabel('Message Type')\n",
    "plt.ylabel('Count')\n",
    "plt.title('Distribution of Ham and Spam Messages')\n",
    "plt.show()\n"
   ]
  },
  {
   "cell_type": "markdown",
   "id": "ed13f378",
   "metadata": {},
   "source": [
    "The dataset is clearly imbalanced, which can negatively impact model performance. There are several techniques to address this issue, and for a thorough evaluation, I will experiment with all of them.\n",
    "* Oversampling : Oversampling is the process of adding more copies to the minority class.\n",
    "* SMOTE : SMOTE is used to generate artificial/synthetic samples for the minority class. This technique works by randomly choosing a sample from a minority class and determining K-Nearest Neighbors for this sample, then the artificial sample is added between the picked sample and its neighbors. This function is present in imblearn module.\n",
    "\n"
   ]
  },
  {
   "cell_type": "code",
   "execution_count": null,
   "id": "1a3dcdfa",
   "metadata": {},
   "outputs": [
    {
     "name": "stderr",
     "output_type": "stream",
     "text": [
      "[nltk_data] Downloading package stopwords to /home/david/nltk_data...\n",
      "[nltk_data]   Package stopwords is already up-to-date!\n"
     ]
    },
    {
     "name": "stdout",
     "output_type": "stream",
     "text": [
      "                                                text  \\\n",
      "0  Go until jurong point, crazy.. Available only ...   \n",
      "1                      Ok lar... Joking wif u oni...   \n",
      "2  Free entry in 2 a wkly comp to win FA Cup fina...   \n",
      "3  U dun say so early hor... U c already then say...   \n",
      "4  Nah I don't think he goes to usf, he lives aro...   \n",
      "\n",
      "                                          clean_text  \n",
      "0  go jurong available bugis n great world la e c...  \n",
      "1                                    ok joking wif u  \n",
      "2  free entry wkly comp win fa cup final tkts may...  \n",
      "3                        u dun say early u c already  \n",
      "4                 nah think goes lives around though  \n",
      "(5572, 9400)\n"
     ]
    }
   ],
   "source": [
    "from nltk.corpus import stopwords\n",
    "import nltk\n",
    "nltk.download('stopwords')\n",
    "def clean_text(text):\n",
    "    text = text.lower() # lowercase\n",
    "    text = ' '.join([word for word in text.split() if word.isalpha() and word not in stopwords.words('english')]) # remove stopwords (a, an, the, is, are, ...) and non-alphabetic characters (numbers, punctuation, ...)\n",
    "    return text\n",
    "\n",
    "\n",
    "df['clean_text'] = df['text'].apply(clean_text)\n",
    "print(df[['text', 'clean_text']].head())\n",
    "\n",
    "from sklearn.feature_extraction.text import TfidfVectorizer\n",
    "\n",
    "tfid = TfidfVectorizer()\n",
    "X_vectorized = tfid.fit_transform(df['clean_text'])\n",
    "print(X_vectorized.shape)  # (num_samples, num_features)\n"
   ]
  },
  {
   "cell_type": "code",
   "execution_count": 59,
   "id": "66effff5",
   "metadata": {},
   "outputs": [
    {
     "data": {
      "image/png": "[encoded data removed]",
      "text/plain": [
       "<Figure size 640x480 with 1 Axes>"
      ]
     },
     "metadata": {},
     "output_type": "display_data"
    },
    {
     "name": "stdout",
     "output_type": "stream",
     "text": [
      "(9650, 9400)\n",
      "(9650,)\n"
     ]
    }
   ],
   "source": [
    "# Over-sampling\n",
    "\n",
    "from imblearn.over_sampling import RandomOverSampler\n",
    "\n",
    "ros = RandomOverSampler(random_state=42)\n",
    "X_resampled, y_resampled = ros.fit_resample(X_vectorized, df['label'])\n",
    "\n",
    "x_values = ['Ham', 'Spam']\n",
    "y_values = y_resampled.value_counts().values\n",
    "plt.bar(x_values, y_values)\n",
    "plt.xlabel(\"Message Type\")\n",
    "plt.ylabel(\"Count\")\n",
    "plt.show()\n",
    "print(X_resampled.shape)  # (num_samples, num_features)\n",
    "print(y_resampled.shape)  # (num_samples,)\n",
    "\n",
    "df_X_over = pd.DataFrame(X_resampled.toarray(), columns=tfid.get_feature_names_out())\n",
    "df_y_over = pd.DataFrame(y_resampled, columns=['label'])\n",
    "df_over = pd.concat([df_X_over, df_y_over], axis=1)\n",
    "\n",
    "df_over.to_csv('../dataset/spam_over.csv', index=False)"
   ]
  },
  {
   "cell_type": "code",
   "execution_count": 60,
   "id": "32f9c936",
   "metadata": {},
   "outputs": [
    {
     "data": {
      "image/png": "[encoded data removed]",
      "text/plain": [
       "<Figure size 640x480 with 1 Axes>"
      ]
     },
     "metadata": {},
     "output_type": "display_data"
    },
    {
     "name": "stdout",
     "output_type": "stream",
     "text": [
      "(9650, 9400)\n",
      "(9650,)\n"
     ]
    }
   ],
   "source": [
    "# SMOTE\n",
    "from imblearn.over_sampling import SMOTE\n",
    "\n",
    "smote = SMOTE(random_state = 42)\n",
    "\n",
    "X_smote, y_smote = smote.fit_resample(X_vectorized, df['label'])\n",
    "\n",
    "x_values = [\"Ham\", \"Spam\"]\n",
    "y_values = y_smote.value_counts().values\n",
    "plt.bar(x_values, y_values)\n",
    "plt.xlabel(\"Message Type\")\n",
    "plt.ylabel(\"Count\")\n",
    "plt.show()\n",
    "print(X_smote.shape)  # (num_samples, num_features)\n",
    "print(y_smote.shape)  # (num_samples,)\n",
    "\n",
    "\n",
    "# Convert X_smote to DataFrame\n",
    "df_X_smote = pd.DataFrame(X_smote.toarray(), columns=tfid.get_feature_names_out())\n",
    "df_smote = pd.concat([df_X_smote, y_smote.reset_index(drop=True)], axis=1)\n",
    "df_smote.to_csv('../dataset/spam_smote.csv', index=False)"
   ]
  }
 ],
 "metadata": {
  "kernelspec": {
   "display_name": "venv",
   "language": "python",
   "name": "python3"
  },
  "language_info": {
   "codemirror_mode": {
    "name": "ipython",
    "version": 3
   },
   "file_extension": ".py",
   "mimetype": "text/x-python",
   "name": "python",
   "nbconvert_exporter": "python",
   "pygments_lexer": "ipython3",
   "version": "3.12.3"
  }
 },
 "nbformat": 4,
 "nbformat_minor": 5
}
